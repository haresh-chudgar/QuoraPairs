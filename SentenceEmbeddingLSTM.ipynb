{
 "cells": [
  {
   "cell_type": "code",
   "execution_count": 1,
   "metadata": {
    "collapsed": false
   },
   "outputs": [],
   "source": [
    "import tensorflow as tf\n",
    "import numpy as np\n",
    "import pandas as pd\n",
    "import spacy"
   ]
  },
  {
   "cell_type": "markdown",
   "metadata": {},
   "source": [
    "### Getting input data ready"
   ]
  },
  {
   "cell_type": "code",
   "execution_count": null,
   "metadata": {
    "collapsed": false
   },
   "outputs": [],
   "source": [
    "filePath = \"data/quora_duplicate_questions.tsv\"\n",
    "df = pd.read_csv(filePath,delimiter=\"\\t\")\n",
    "df.question1 = df.question1.fillna(\"\")\n",
    "df.question1 = df.question1.apply(str.lower)\n",
    "df.question2 = df.question2.fillna(\"\")\n",
    "df.question2 = df.question2.apply(str.lower)"
   ]
  },
  {
   "cell_type": "markdown",
   "metadata": {},
   "source": [
    "Finding unique words in dataset to create vocabulary"
   ]
  },
  {
   "cell_type": "code",
   "execution_count": null,
   "metadata": {
    "collapsed": false
   },
   "outputs": [],
   "source": [
    "def tokenize(s,nlp):\n",
    "    doc = nlp(s)\n",
    "    tokSen = []\n",
    "    for word in doc:\n",
    "        tokSen.append(word.text)\n",
    "    return tokSen\n",
    "\n",
    "nlp = spacy.load('en')\n",
    "uniqueQuestions = df.question1.unique()\n",
    "tokenizedQns = [tokenize(unicode(sentence,'utf8'),nlp) for sentence in uniqueQuestions]\n",
    "words = [word for tokWords in tokenizedQns for word in tokWords]\n",
    "\n",
    "words2 = df.question2.unique()\n",
    "words2 = [tokenize(unicode(sentence,'utf8'),nlp) for sentence in words2]\n",
    "words2 = [word for tokWords in words2 for word in tokWords]\n",
    "words.extend(words2)"
   ]
  },
  {
   "cell_type": "markdown",
   "metadata": {},
   "source": [
    "Adding PAD as filler for normalizing sentence length and UNK for unkown tokens"
   ]
  },
  {
   "cell_type": "code",
   "execution_count": null,
   "metadata": {
    "collapsed": false,
    "scrolled": true
   },
   "outputs": [],
   "source": [
    "words = set(words)\n",
    "vocabulary = dict(zip(words,range(2,len(words)+2)))\n",
    "vocabulary['PAD'] = 0\n",
    "vocabulary['UNK'] = 1\n",
    "print(\"Vocabulary Size including PAD and UNK: \",len(vocabulary))"
   ]
  },
  {
   "cell_type": "markdown",
   "metadata": {},
   "source": [
    "Each question represented as list of index in the vocabulary"
   ]
  },
  {
   "cell_type": "code",
   "execution_count": null,
   "metadata": {
    "collapsed": false
   },
   "outputs": [],
   "source": [
    "def loadWordVectors(filePath,vocab):\n",
    "    txt = open('data/wiki.en.vec')\n",
    "    wordVecs = np.zeros((len(vocab),300),dtype=float)\n",
    "    for line in txt:\n",
    "        splitData = line.split(\" \")\n",
    "        word = splitData[0]\n",
    "        word = unicode(word,'utf8')\n",
    "        if(word not in vocab):\n",
    "            continue\n",
    "        vector = splitData[1:len(splitData)-1]\n",
    "        wordVecs[vocab[word]] = np.array(vector,dtype=float)\n",
    "    return wordVecs\n",
    "wordVecSize = 300\n",
    "wordVecs = loadWordVectors('wiki/wiki.en.vec',vocabulary)"
   ]
  },
  {
   "cell_type": "code",
   "execution_count": null,
   "metadata": {
    "collapsed": false
   },
   "outputs": [],
   "source": [
    "idx = 0 \n",
    "for w in wordVecs:\n",
    "    if(w is None):\n",
    "        count += 1\n",
    "        wordVecs[idx] = 2 * np.random.random_sample(wordVecSize) - 1"
   ]
  },
  {
   "cell_type": "code",
   "execution_count": null,
   "metadata": {
    "collapsed": false
   },
   "outputs": [],
   "source": [
    "def tokenizeAndIndex(sentence):\n",
    "    words = tokenize(unicode(sentence,'utf8'),nlp)\n",
    "    retVal = [vocabulary[word] if word in vocabulary else vocabulary['UNK'] for word in words]\n",
    "    return retVal\n",
    "df['Q1Indexed'] = df.question1.apply(tokenizeAndIndex)\n",
    "df['Q2Indexed'] = df.question2.apply(tokenizeAndIndex)"
   ]
  },
  {
   "cell_type": "markdown",
   "metadata": {},
   "source": [
    "Threshold questions with total words <= 50"
   ]
  },
  {
   "cell_type": "code",
   "execution_count": null,
   "metadata": {
    "collapsed": false
   },
   "outputs": [],
   "source": [
    "seqLength = 50\n",
    "df = df[df.Q1Indexed.apply(len) <= seqLength]\n",
    "df = df[df.Q2Indexed.apply(len) <= seqLength]\n",
    "\n",
    "def normalizeSequenceLength(sequence):\n",
    "    if(len(sequence) < seqLength):\n",
    "        padding = [vocabulary['PAD'] for i in range(seqLength - len(sequence))]\n",
    "        sequence.extend(padding)\n",
    "    return sequence\n",
    "df.Q1Indexed = df.Q1Indexed.apply(normalizeSequenceLength)\n",
    "df.Q2Indexed = df.Q2Indexed.apply(normalizeSequenceLength)"
   ]
  },
  {
   "cell_type": "code",
   "execution_count": null,
   "metadata": {
    "collapsed": false,
    "scrolled": false
   },
   "outputs": [],
   "source": [
    "positiveSamples = df[df.is_duplicate==1]\n",
    "negativeSamples = df[df.is_duplicate==0]\n",
    "\n",
    "#Testing data\n",
    "positiveTest = positiveSamples.sample(frac=0.3)\n",
    "negativeTest = negativeSamples.sample(frac=0.3)\n",
    "testData = positiveTest.append(negativeTest)\n",
    "print(\"Number of test samples: {0}\".format(len(testData)))\n",
    "#Training data\n",
    "trainData = df[df.id.isin(testData.id) == False]\n",
    "print(\"Number of train samples: {0}\".format(len(trainData)))\n",
    "\n",
    "positiveVal = positiveTest.sample(frac=0.5)\n",
    "negativeVal = negativeTest.sample(frac=0.5)\n",
    "valData = positiveVal.append(negativeVal)\n",
    "\n",
    "positiveTest = positiveTest[positiveTest.id.isin(positiveVal.id) == False]\n",
    "negativeTest = negativeTest[negativeTest.id.isin(negativeVal.id) == False]\n",
    "testData = positiveTest.append(negativeTest)\n",
    "\n",
    "totalLen = float(len(df))\n",
    "print(\"Split ratio: {}:{}:{}\".format(len(trainData) / totalLen, len(valData) / totalLen, len(testData) / totalLen))\n",
    "print(\"Total Samples: {}:{}:{}\".format(len(trainData), len(valData), len(testData)))\n",
    "#print(float(len(valData)) / len(df))"
   ]
  },
  {
   "cell_type": "markdown",
   "metadata": {},
   "source": [
    "Saving processed data to file"
   ]
  },
  {
   "cell_type": "code",
   "execution_count": null,
   "metadata": {
    "collapsed": false
   },
   "outputs": [],
   "source": [
    "df.to_pickle('data/ProcessedData.pkl')\n",
    "trainData.to_pickle(\"data/TrainData.pkl\")\n",
    "testData.to_pickle(\"data/TestData.pkl\")\n",
    "valData.to_pickle(\"data/ValData.pkl\")\n",
    "np.save('data/wordVecs.npy',wordVecs)"
   ]
  },
  {
   "cell_type": "markdown",
   "metadata": {},
   "source": [
    "Loading processed data from file"
   ]
  },
  {
   "cell_type": "code",
   "execution_count": 3,
   "metadata": {
    "collapsed": false
   },
   "outputs": [],
   "source": [
    "df = pd.read_pickle('data/ProcessedData.pkl')\n",
    "trainData = pd.read_pickle('data/TrainData.pkl')\n",
    "testData = pd.read_pickle('data/TestData.pkl')\n",
    "valData = pd.read_pickle('data/ValData.pkl')\n",
    "wordVecs = np.load('data/wordVecs.npy')\n",
    "wordVecSize = 300\n",
    "seqLength = 50"
   ]
  },
  {
   "cell_type": "markdown",
   "metadata": {},
   "source": [
    "### Building the network"
   ]
  },
  {
   "cell_type": "markdown",
   "metadata": {},
   "source": [
    "Creating setence embedding"
   ]
  },
  {
   "cell_type": "code",
   "execution_count": 13,
   "metadata": {
    "collapsed": false
   },
   "outputs": [],
   "source": [
    "tf.reset_default_graph()"
   ]
  },
  {
   "cell_type": "code",
   "execution_count": 14,
   "metadata": {
    "collapsed": false,
    "scrolled": true
   },
   "outputs": [
    {
     "ename": "TypeError",
     "evalue": "Value passed to parameter 'input' has DataType float64 not in list of allowed values: float32, float16",
     "output_type": "error",
     "traceback": [
      "\u001b[1;31m---------------------------------------------------------------------------\u001b[0m",
      "\u001b[1;31mTypeError\u001b[0m                                 Traceback (most recent call last)",
      "\u001b[1;32m<ipython-input-14-4833b389c4c6>\u001b[0m in \u001b[0;36m<module>\u001b[1;34m()\u001b[0m\n\u001b[0;32m     18\u001b[0m     \u001b[0mq1Rep\u001b[0m\u001b[1;33m,\u001b[0m\u001b[0m_\u001b[0m \u001b[1;33m=\u001b[0m \u001b[0mtf\u001b[0m\u001b[1;33m.\u001b[0m\u001b[0mnn\u001b[0m\u001b[1;33m.\u001b[0m\u001b[0mdynamic_rnn\u001b[0m\u001b[1;33m(\u001b[0m\u001b[0mcell\u001b[0m\u001b[1;33m,\u001b[0m\u001b[0mq1Embeddings\u001b[0m\u001b[1;33m,\u001b[0m\u001b[0mdtype\u001b[0m\u001b[1;33m=\u001b[0m\u001b[0mtf\u001b[0m\u001b[1;33m.\u001b[0m\u001b[0mfloat64\u001b[0m\u001b[1;33m,\u001b[0m\u001b[0mswap_memory\u001b[0m\u001b[1;33m=\u001b[0m\u001b[0mTrue\u001b[0m\u001b[1;33m,\u001b[0m\u001b[0msequence_length\u001b[0m\u001b[1;33m=\u001b[0m\u001b[0mq1SeqLen\u001b[0m\u001b[1;33m)\u001b[0m\u001b[1;33m\u001b[0m\u001b[0m\n\u001b[0;32m     19\u001b[0m     \u001b[0mq1Rep\u001b[0m \u001b[1;33m=\u001b[0m \u001b[0mtf\u001b[0m\u001b[1;33m.\u001b[0m\u001b[0mexpand_dims\u001b[0m\u001b[1;33m(\u001b[0m\u001b[0mq1Rep\u001b[0m\u001b[1;33m,\u001b[0m\u001b[1;36m2\u001b[0m\u001b[1;33m)\u001b[0m\u001b[1;33m\u001b[0m\u001b[0m\n\u001b[1;32m---> 20\u001b[1;33m     \u001b[0mq1Rep\u001b[0m \u001b[1;33m=\u001b[0m \u001b[0mtf\u001b[0m\u001b[1;33m.\u001b[0m\u001b[0mnn\u001b[0m\u001b[1;33m.\u001b[0m\u001b[0mmax_pool\u001b[0m\u001b[1;33m(\u001b[0m\u001b[0mq1Rep\u001b[0m\u001b[1;33m,\u001b[0m\u001b[1;33m[\u001b[0m\u001b[1;36m1\u001b[0m\u001b[1;33m,\u001b[0m\u001b[0mseqLength\u001b[0m\u001b[1;33m,\u001b[0m\u001b[1;36m1\u001b[0m\u001b[1;33m,\u001b[0m\u001b[1;36m1\u001b[0m\u001b[1;33m]\u001b[0m\u001b[1;33m,\u001b[0m\u001b[0mstrides\u001b[0m\u001b[1;33m=\u001b[0m\u001b[1;33m[\u001b[0m\u001b[1;36m1\u001b[0m\u001b[1;33m,\u001b[0m\u001b[1;36m1\u001b[0m\u001b[1;33m,\u001b[0m\u001b[1;36m1\u001b[0m\u001b[1;33m,\u001b[0m\u001b[1;36m1\u001b[0m\u001b[1;33m]\u001b[0m\u001b[1;33m,\u001b[0m\u001b[0mpadding\u001b[0m\u001b[1;33m=\u001b[0m\u001b[1;34m'VALID'\u001b[0m\u001b[1;33m,\u001b[0m\u001b[0mdata_format\u001b[0m\u001b[1;33m=\u001b[0m\u001b[1;34m'NHWC'\u001b[0m\u001b[1;33m,\u001b[0m\u001b[0mname\u001b[0m\u001b[1;33m=\u001b[0m\u001b[1;34m'AvgPool'\u001b[0m\u001b[1;33m)\u001b[0m\u001b[1;33m\u001b[0m\u001b[0m\n\u001b[0m\u001b[0;32m     21\u001b[0m     \u001b[0mq1Rep\u001b[0m \u001b[1;33m=\u001b[0m \u001b[0mtf\u001b[0m\u001b[1;33m.\u001b[0m\u001b[0msqueeze\u001b[0m\u001b[1;33m(\u001b[0m\u001b[0mq1Rep\u001b[0m\u001b[1;33m,\u001b[0m\u001b[0maxis\u001b[0m\u001b[1;33m=\u001b[0m\u001b[1;33m[\u001b[0m\u001b[1;36m1\u001b[0m\u001b[1;33m,\u001b[0m\u001b[1;36m2\u001b[0m\u001b[1;33m]\u001b[0m\u001b[1;33m)\u001b[0m\u001b[1;33m\u001b[0m\u001b[0m\n\u001b[0;32m     22\u001b[0m     \u001b[1;31m#q1Rep = q1Rep[:,-1,:]\u001b[0m\u001b[1;33m\u001b[0m\u001b[1;33m\u001b[0m\u001b[0m\n",
      "\u001b[1;32m/usr/local/lib/python2.7/dist-packages/tensorflow/python/ops/nn_ops.pyc\u001b[0m in \u001b[0;36mmax_pool\u001b[1;34m(value, ksize, strides, padding, data_format, name)\u001b[0m\n\u001b[0;32m   1819\u001b[0m                                 \u001b[0mpadding\u001b[0m\u001b[1;33m=\u001b[0m\u001b[0mpadding\u001b[0m\u001b[1;33m,\u001b[0m\u001b[1;33m\u001b[0m\u001b[0m\n\u001b[0;32m   1820\u001b[0m                                 \u001b[0mdata_format\u001b[0m\u001b[1;33m=\u001b[0m\u001b[0mdata_format\u001b[0m\u001b[1;33m,\u001b[0m\u001b[1;33m\u001b[0m\u001b[0m\n\u001b[1;32m-> 1821\u001b[1;33m                                 name=name)\n\u001b[0m\u001b[0;32m   1822\u001b[0m \u001b[1;33m\u001b[0m\u001b[0m\n\u001b[0;32m   1823\u001b[0m \u001b[1;33m\u001b[0m\u001b[0m\n",
      "\u001b[1;32m/usr/local/lib/python2.7/dist-packages/tensorflow/python/ops/gen_nn_ops.pyc\u001b[0m in \u001b[0;36m_max_pool\u001b[1;34m(input, ksize, strides, padding, data_format, name)\u001b[0m\n\u001b[0;32m   1636\u001b[0m   result = _op_def_lib.apply_op(\"MaxPool\", input=input, ksize=ksize,\n\u001b[0;32m   1637\u001b[0m                                 \u001b[0mstrides\u001b[0m\u001b[1;33m=\u001b[0m\u001b[0mstrides\u001b[0m\u001b[1;33m,\u001b[0m \u001b[0mpadding\u001b[0m\u001b[1;33m=\u001b[0m\u001b[0mpadding\u001b[0m\u001b[1;33m,\u001b[0m\u001b[1;33m\u001b[0m\u001b[0m\n\u001b[1;32m-> 1638\u001b[1;33m                                 data_format=data_format, name=name)\n\u001b[0m\u001b[0;32m   1639\u001b[0m   \u001b[1;32mreturn\u001b[0m \u001b[0mresult\u001b[0m\u001b[1;33m\u001b[0m\u001b[0m\n\u001b[0;32m   1640\u001b[0m \u001b[1;33m\u001b[0m\u001b[0m\n",
      "\u001b[1;32m/usr/local/lib/python2.7/dist-packages/tensorflow/python/framework/op_def_library.pyc\u001b[0m in \u001b[0;36mapply_op\u001b[1;34m(self, op_type_name, name, **keywords)\u001b[0m\n\u001b[0;32m    588\u001b[0m               _SatisfiesTypeConstraint(base_type,\n\u001b[0;32m    589\u001b[0m                                        \u001b[0m_Attr\u001b[0m\u001b[1;33m(\u001b[0m\u001b[0mop_def\u001b[0m\u001b[1;33m,\u001b[0m \u001b[0minput_arg\u001b[0m\u001b[1;33m.\u001b[0m\u001b[0mtype_attr\u001b[0m\u001b[1;33m)\u001b[0m\u001b[1;33m,\u001b[0m\u001b[1;33m\u001b[0m\u001b[0m\n\u001b[1;32m--> 590\u001b[1;33m                                        param_name=input_name)\n\u001b[0m\u001b[0;32m    591\u001b[0m             \u001b[0mattrs\u001b[0m\u001b[1;33m[\u001b[0m\u001b[0minput_arg\u001b[0m\u001b[1;33m.\u001b[0m\u001b[0mtype_attr\u001b[0m\u001b[1;33m]\u001b[0m \u001b[1;33m=\u001b[0m \u001b[0mattr_value\u001b[0m\u001b[1;33m\u001b[0m\u001b[0m\n\u001b[0;32m    592\u001b[0m             \u001b[0minferred_from\u001b[0m\u001b[1;33m[\u001b[0m\u001b[0minput_arg\u001b[0m\u001b[1;33m.\u001b[0m\u001b[0mtype_attr\u001b[0m\u001b[1;33m]\u001b[0m \u001b[1;33m=\u001b[0m \u001b[0minput_name\u001b[0m\u001b[1;33m\u001b[0m\u001b[0m\n",
      "\u001b[1;32m/usr/local/lib/python2.7/dist-packages/tensorflow/python/framework/op_def_library.pyc\u001b[0m in \u001b[0;36m_SatisfiesTypeConstraint\u001b[1;34m(dtype, attr_def, param_name)\u001b[0m\n\u001b[0;32m     59\u001b[0m           \u001b[1;34m\"allowed values: %s\"\u001b[0m \u001b[1;33m%\u001b[0m\u001b[1;33m\u001b[0m\u001b[0m\n\u001b[0;32m     60\u001b[0m           (param_name, dtypes.as_dtype(dtype).name,\n\u001b[1;32m---> 61\u001b[1;33m            \", \".join(dtypes.as_dtype(x).name for x in allowed_list)))\n\u001b[0m\u001b[0;32m     62\u001b[0m \u001b[1;33m\u001b[0m\u001b[0m\n\u001b[0;32m     63\u001b[0m \u001b[1;33m\u001b[0m\u001b[0m\n",
      "\u001b[1;31mTypeError\u001b[0m: Value passed to parameter 'input' has DataType float64 not in list of allowed values: float32, float16"
     ]
    }
   ],
   "source": [
    "wordVecSize = 100\n",
    "vocab_size = len(wordVecs)\n",
    "\n",
    "with tf.variable_scope(\"Words\") as scope:\n",
    "    W = tf.Variable(wordVecs,name=\"W\")\n",
    "    #W = tf.Variable(tf.random_uniform([vocab_size, wordVecSize], -1.0, 1.0),name=\"W\")\n",
    "    \n",
    "    q1Input = tf.placeholder(tf.int32, [None, seqLength], name=\"q1Input\")\n",
    "    q1Embeddings = tf.nn.embedding_lookup(W, q1Input)\n",
    "    q1SeqLen = tf.placeholder(tf.int32, [None], name=\"q1SequenceLength\")\n",
    "    \n",
    "    q2Input = tf.placeholder(tf.int32, [None, seqLength], name=\"q2Input\")\n",
    "    q2SeqLen = tf.placeholder(tf.int32, [None], name=\"q2SequenceLength\")\n",
    "    q2Embeddings = tf.nn.embedding_lookup(W, q2Input)\n",
    "\n",
    "with tf.variable_scope(\"Sentence\") as scope:\n",
    "    cell = tf.contrib.rnn.BasicLSTMCell(wordVecSize, forget_bias=1.0, state_is_tuple=True)\n",
    "    q1Rep,_ = tf.nn.dynamic_rnn(cell,q1Embeddings,dtype=tf.float64,swap_memory=True,sequence_length=q1SeqLen)\n",
    "    q1Rep = tf.expand_dims(q1Rep,2)\n",
    "    q1Rep = tf.nn.max_pool(q1Rep,[1,seqLength,1,1],strides=[1,1,1,1],padding='VALID',data_format='NHWC',name='AvgPool')\n",
    "    q1Rep = tf.squeeze(q1Rep,axis=[1,2])\n",
    "    #q1Rep = q1Rep[:,-1,:]\n",
    "    scope.reuse_variables()\n",
    "    q2Rep,_ = tf.nn.dynamic_rnn(cell,q2Embeddings,dtype=tf.float64,swap_memory=True,sequence_length=q2SeqLen)\n",
    "    q2Rep = tf.expand_dims(q2Rep,2)\n",
    "    q2Rep = tf.nn.max_pool(q2Rep,[1,seqLength,1,1],strides=[1,1,1,1],padding='VALID',data_format='NHWC',name='AvgPool')\n",
    "    q2Rep = tf.squeeze(q2Rep,axis=[1,2])\n",
    "    #q2Rep = q2Rep[:,-1,:]\n",
    "\n",
    "    sentenceEmbedding = tf.concat([q1Rep,q2Rep],axis=1,name='sentenceEmbedding')"
   ]
  },
  {
   "cell_type": "code",
   "execution_count": 18,
   "metadata": {
    "collapsed": false
   },
   "outputs": [
    {
     "name": "stdout",
     "output_type": "stream",
     "text": [
      "(?, 50, 100)\n"
     ]
    }
   ],
   "source": [
    "print(q1Rep.get_shape())"
   ]
  },
  {
   "cell_type": "markdown",
   "metadata": {},
   "source": [
    "Dense layers and output"
   ]
  },
  {
   "cell_type": "code",
   "execution_count": 6,
   "metadata": {
    "collapsed": false
   },
   "outputs": [],
   "source": [
    "with tf.variable_scope(\"DenseLayers\") as scope:\n",
    "    dense1 = tf.layers.dense(inputs=sentenceEmbedding, units=wordVecSize*2, activation=tf.nn.tanh,name='dense1')\n",
    "    dropoutD1 = tf.nn.dropout(x=dense1,keep_prob=0.7)\n",
    "    dense2 = tf.layers.dense(inputs=dropoutD1, units=wordVecSize*2, activation=tf.nn.tanh,name='dense2')\n",
    "    dropoutD2 = tf.nn.dropout(x=dense2,keep_prob=0.7)\n",
    "    dense3 = tf.layers.dense(inputs=dropoutD2, units=wordVecSize*2, activation=tf.nn.tanh,name='dense3')\n",
    "    logits = tf.layers.dense(inputs=dense3, units=2,name='logits')\n",
    "\n",
    "with tf.variable_scope(\"Prediction\") as scope:\n",
    "    predictions = tf.argmax(input=tf.nn.softmax(logits=logits,dim=-1,name='softmax'),axis=1,name='output')"
   ]
  },
  {
   "cell_type": "markdown",
   "metadata": {},
   "source": [
    "Loss and gradient updates"
   ]
  },
  {
   "cell_type": "code",
   "execution_count": 7,
   "metadata": {
    "collapsed": false
   },
   "outputs": [],
   "source": [
    "num_classes = 2\n",
    "labels = tf.placeholder(tf.int32,[None,num_classes],name='labels')\n",
    "\n",
    "loss = None\n",
    "train_op = None\n",
    "\n",
    "# Calculate loss for both TRAIN and EVAL modes\n",
    "loss = tf.losses.softmax_cross_entropy(onehot_labels=labels, logits=logits)\n",
    "train_op = tf.contrib.layers.optimize_loss(loss=loss,\n",
    "                                           global_step=tf.contrib.framework.get_global_step(),\n",
    "                                           learning_rate=0.001,\n",
    "                                           optimizer=\"Adam\")\n",
    "correct_prediction = tf.equal(predictions, tf.argmax(labels,1))\n",
    "accuracy = tf.reduce_mean(tf.cast(correct_prediction, \"float\"))"
   ]
  },
  {
   "cell_type": "markdown",
   "metadata": {},
   "source": [
    "Prepare variables for training epoch"
   ]
  },
  {
   "cell_type": "code",
   "execution_count": 8,
   "metadata": {
    "collapsed": true
   },
   "outputs": [],
   "source": [
    "session = tf.InteractiveSession()"
   ]
  },
  {
   "cell_type": "code",
   "execution_count": 11,
   "metadata": {
    "collapsed": false
   },
   "outputs": [],
   "source": [
    "import os\n",
    "os.environ['TF_CPP_MIN_LOG_LEVEL'] = '2'"
   ]
  },
  {
   "cell_type": "code",
   "execution_count": 12,
   "metadata": {
    "collapsed": false
   },
   "outputs": [
    {
     "name": "stdout",
     "output_type": "stream",
     "text": [
      "Starting...\n",
      "Episode\ttrain loss\tval loss\tval accuracy\n"
     ]
    },
    {
     "ename": "InvalidArgumentError",
     "evalue": "No OpKernel was registered to support Op 'AvgPool' with these attrs.  Registered devices: [CPU,GPU], Registered kernels:\n  device='GPU'; T in [DT_FLOAT]\n  device='GPU'; T in [DT_HALF]\n  device='CPU'; T in [DT_HALF]\n  device='CPU'; T in [DT_FLOAT]\n\n\t [[Node: Sentence/AvgPool_1 = AvgPool[T=DT_DOUBLE, data_format=\"NHWC\", ksize=[1, 50, 1, 1], padding=\"VALID\", strides=[1, 1, 1, 1]](Sentence/ExpandDims_1)]]\n\nCaused by op u'Sentence/AvgPool_1', defined at:\n  File \"/usr/lib/python2.7/runpy.py\", line 162, in _run_module_as_main\n    \"__main__\", fname, loader, pkg_name)\n  File \"/usr/lib/python2.7/runpy.py\", line 72, in _run_code\n    exec code in run_globals\n  File \"/usr/local/lib/python2.7/dist-packages/ipykernel/__main__.py\", line 3, in <module>\n    app.launch_new_instance()\n  File \"/usr/local/lib/python2.7/dist-packages/traitlets/config/application.py\", line 589, in launch_instance\n    app.start()\n  File \"/usr/local/lib/python2.7/dist-packages/ipykernel/kernelapp.py\", line 442, in start\n    ioloop.IOLoop.instance().start()\n  File \"/usr/local/lib/python2.7/dist-packages/zmq/eventloop/ioloop.py\", line 162, in start\n    super(ZMQIOLoop, self).start()\n  File \"/usr/local/lib/python2.7/dist-packages/tornado/ioloop.py\", line 883, in start\n    handler_func(fd_obj, events)\n  File \"/usr/local/lib/python2.7/dist-packages/tornado/stack_context.py\", line 275, in null_wrapper\n    return fn(*args, **kwargs)\n  File \"/usr/local/lib/python2.7/dist-packages/zmq/eventloop/zmqstream.py\", line 440, in _handle_events\n    self._handle_recv()\n  File \"/usr/local/lib/python2.7/dist-packages/zmq/eventloop/zmqstream.py\", line 472, in _handle_recv\n    self._run_callback(callback, msg)\n  File \"/usr/local/lib/python2.7/dist-packages/zmq/eventloop/zmqstream.py\", line 414, in _run_callback\n    callback(*args, **kwargs)\n  File \"/usr/local/lib/python2.7/dist-packages/tornado/stack_context.py\", line 275, in null_wrapper\n    return fn(*args, **kwargs)\n  File \"/usr/local/lib/python2.7/dist-packages/ipykernel/kernelbase.py\", line 276, in dispatcher\n    return self.dispatch_shell(stream, msg)\n  File \"/usr/local/lib/python2.7/dist-packages/ipykernel/kernelbase.py\", line 228, in dispatch_shell\n    handler(stream, idents, msg)\n  File \"/usr/local/lib/python2.7/dist-packages/ipykernel/kernelbase.py\", line 391, in execute_request\n    user_expressions, allow_stdin)\n  File \"/usr/local/lib/python2.7/dist-packages/ipykernel/ipkernel.py\", line 199, in do_execute\n    shell.run_cell(code, store_history=store_history, silent=silent)\n  File \"/usr/local/lib/python2.7/dist-packages/IPython/core/interactiveshell.py\", line 2723, in run_cell\n    interactivity=interactivity, compiler=compiler, result=result)\n  File \"/usr/local/lib/python2.7/dist-packages/IPython/core/interactiveshell.py\", line 2825, in run_ast_nodes\n    if self.run_code(code, result):\n  File \"/usr/local/lib/python2.7/dist-packages/IPython/core/interactiveshell.py\", line 2885, in run_code\n    exec(code_obj, self.user_global_ns, self.user_ns)\n  File \"<ipython-input-5-323854c3be4d>\", line 26, in <module>\n    q2Rep = tf.nn.avg_pool(q2Rep,[1,seqLength,1,1],strides=[1,1,1,1],padding='VALID',data_format='NHWC',name='AvgPool')\n  File \"/usr/local/lib/python2.7/dist-packages/tensorflow/python/ops/nn_ops.py\", line 1793, in avg_pool\n    name=name)\n  File \"/usr/local/lib/python2.7/dist-packages/tensorflow/python/ops/gen_nn_ops.py\", line 50, in _avg_pool\n    data_format=data_format, name=name)\n  File \"/usr/local/lib/python2.7/dist-packages/tensorflow/python/framework/op_def_library.py\", line 768, in apply_op\n    op_def=op_def)\n  File \"/usr/local/lib/python2.7/dist-packages/tensorflow/python/framework/ops.py\", line 2336, in create_op\n    original_op=self._default_original_op, op_def=op_def)\n  File \"/usr/local/lib/python2.7/dist-packages/tensorflow/python/framework/ops.py\", line 1228, in __init__\n    self._traceback = _extract_stack()\n\nInvalidArgumentError (see above for traceback): No OpKernel was registered to support Op 'AvgPool' with these attrs.  Registered devices: [CPU,GPU], Registered kernels:\n  device='GPU'; T in [DT_FLOAT]\n  device='GPU'; T in [DT_HALF]\n  device='CPU'; T in [DT_HALF]\n  device='CPU'; T in [DT_FLOAT]\n\n\t [[Node: Sentence/AvgPool_1 = AvgPool[T=DT_DOUBLE, data_format=\"NHWC\", ksize=[1, 50, 1, 1], padding=\"VALID\", strides=[1, 1, 1, 1]](Sentence/ExpandDims_1)]]\n",
     "output_type": "error",
     "traceback": [
      "\u001b[1;31m---------------------------------------------------------------------------\u001b[0m",
      "\u001b[1;31mInvalidArgumentError\u001b[0m                      Traceback (most recent call last)",
      "\u001b[1;32m<ipython-input-12-a478071ac7ca>\u001b[0m in \u001b[0;36m<module>\u001b[1;34m()\u001b[0m\n\u001b[0;32m     47\u001b[0m         \u001b[0mfeed_dict\u001b[0m \u001b[1;33m=\u001b[0m \u001b[1;33m{\u001b[0m\u001b[0mq1Input\u001b[0m\u001b[1;33m:\u001b[0m\u001b[0mq1Indices\u001b[0m\u001b[1;33m,\u001b[0m\u001b[0mq1SeqLen\u001b[0m\u001b[1;33m:\u001b[0m\u001b[0mq1Len\u001b[0m\u001b[1;33m,\u001b[0m\u001b[0mq2Input\u001b[0m\u001b[1;33m:\u001b[0m\u001b[0mq2Indices\u001b[0m\u001b[1;33m,\u001b[0m\u001b[0mq2SeqLen\u001b[0m\u001b[1;33m:\u001b[0m\u001b[0mq2Len\u001b[0m\u001b[1;33m,\u001b[0m\u001b[0mlabels\u001b[0m\u001b[1;33m:\u001b[0m\u001b[0moneHotLabels\u001b[0m\u001b[1;33m}\u001b[0m\u001b[1;33m\u001b[0m\u001b[0m\n\u001b[0;32m     48\u001b[0m \u001b[1;33m\u001b[0m\u001b[0m\n\u001b[1;32m---> 49\u001b[1;33m         \u001b[0mtrainMetrics\u001b[0m \u001b[1;33m=\u001b[0m \u001b[0msession\u001b[0m\u001b[1;33m.\u001b[0m\u001b[0mrun\u001b[0m\u001b[1;33m(\u001b[0m\u001b[0mfetches\u001b[0m\u001b[1;33m,\u001b[0m\u001b[0mfeed_dict\u001b[0m\u001b[1;33m)\u001b[0m\u001b[1;33m\u001b[0m\u001b[0m\n\u001b[0m\u001b[0;32m     50\u001b[0m \u001b[1;33m\u001b[0m\u001b[0m\n\u001b[0;32m     51\u001b[0m         \u001b[0mepisodeLoss\u001b[0m \u001b[1;33m+=\u001b[0m \u001b[0mtrainMetrics\u001b[0m\u001b[1;33m[\u001b[0m\u001b[1;34m'eval_op'\u001b[0m\u001b[1;33m]\u001b[0m\u001b[1;33m\u001b[0m\u001b[0m\n",
      "\u001b[1;32m/usr/local/lib/python2.7/dist-packages/tensorflow/python/client/session.pyc\u001b[0m in \u001b[0;36mrun\u001b[1;34m(self, fetches, feed_dict, options, run_metadata)\u001b[0m\n\u001b[0;32m    776\u001b[0m     \u001b[1;32mtry\u001b[0m\u001b[1;33m:\u001b[0m\u001b[1;33m\u001b[0m\u001b[0m\n\u001b[0;32m    777\u001b[0m       result = self._run(None, fetches, feed_dict, options_ptr,\n\u001b[1;32m--> 778\u001b[1;33m                          run_metadata_ptr)\n\u001b[0m\u001b[0;32m    779\u001b[0m       \u001b[1;32mif\u001b[0m \u001b[0mrun_metadata\u001b[0m\u001b[1;33m:\u001b[0m\u001b[1;33m\u001b[0m\u001b[0m\n\u001b[0;32m    780\u001b[0m         \u001b[0mproto_data\u001b[0m \u001b[1;33m=\u001b[0m \u001b[0mtf_session\u001b[0m\u001b[1;33m.\u001b[0m\u001b[0mTF_GetBuffer\u001b[0m\u001b[1;33m(\u001b[0m\u001b[0mrun_metadata_ptr\u001b[0m\u001b[1;33m)\u001b[0m\u001b[1;33m\u001b[0m\u001b[0m\n",
      "\u001b[1;32m/usr/local/lib/python2.7/dist-packages/tensorflow/python/client/session.pyc\u001b[0m in \u001b[0;36m_run\u001b[1;34m(self, handle, fetches, feed_dict, options, run_metadata)\u001b[0m\n\u001b[0;32m    980\u001b[0m     \u001b[1;32mif\u001b[0m \u001b[0mfinal_fetches\u001b[0m \u001b[1;32mor\u001b[0m \u001b[0mfinal_targets\u001b[0m\u001b[1;33m:\u001b[0m\u001b[1;33m\u001b[0m\u001b[0m\n\u001b[0;32m    981\u001b[0m       results = self._do_run(handle, final_targets, final_fetches,\n\u001b[1;32m--> 982\u001b[1;33m                              feed_dict_string, options, run_metadata)\n\u001b[0m\u001b[0;32m    983\u001b[0m     \u001b[1;32melse\u001b[0m\u001b[1;33m:\u001b[0m\u001b[1;33m\u001b[0m\u001b[0m\n\u001b[0;32m    984\u001b[0m       \u001b[0mresults\u001b[0m \u001b[1;33m=\u001b[0m \u001b[1;33m[\u001b[0m\u001b[1;33m]\u001b[0m\u001b[1;33m\u001b[0m\u001b[0m\n",
      "\u001b[1;32m/usr/local/lib/python2.7/dist-packages/tensorflow/python/client/session.pyc\u001b[0m in \u001b[0;36m_do_run\u001b[1;34m(self, handle, target_list, fetch_list, feed_dict, options, run_metadata)\u001b[0m\n\u001b[0;32m   1030\u001b[0m     \u001b[1;32mif\u001b[0m \u001b[0mhandle\u001b[0m \u001b[1;32mis\u001b[0m \u001b[0mNone\u001b[0m\u001b[1;33m:\u001b[0m\u001b[1;33m\u001b[0m\u001b[0m\n\u001b[0;32m   1031\u001b[0m       return self._do_call(_run_fn, self._session, feed_dict, fetch_list,\n\u001b[1;32m-> 1032\u001b[1;33m                            target_list, options, run_metadata)\n\u001b[0m\u001b[0;32m   1033\u001b[0m     \u001b[1;32melse\u001b[0m\u001b[1;33m:\u001b[0m\u001b[1;33m\u001b[0m\u001b[0m\n\u001b[0;32m   1034\u001b[0m       return self._do_call(_prun_fn, self._session, handle, feed_dict,\n",
      "\u001b[1;32m/usr/local/lib/python2.7/dist-packages/tensorflow/python/client/session.pyc\u001b[0m in \u001b[0;36m_do_call\u001b[1;34m(self, fn, *args)\u001b[0m\n\u001b[0;32m   1050\u001b[0m         \u001b[1;32mexcept\u001b[0m \u001b[0mKeyError\u001b[0m\u001b[1;33m:\u001b[0m\u001b[1;33m\u001b[0m\u001b[0m\n\u001b[0;32m   1051\u001b[0m           \u001b[1;32mpass\u001b[0m\u001b[1;33m\u001b[0m\u001b[0m\n\u001b[1;32m-> 1052\u001b[1;33m       \u001b[1;32mraise\u001b[0m \u001b[0mtype\u001b[0m\u001b[1;33m(\u001b[0m\u001b[0me\u001b[0m\u001b[1;33m)\u001b[0m\u001b[1;33m(\u001b[0m\u001b[0mnode_def\u001b[0m\u001b[1;33m,\u001b[0m \u001b[0mop\u001b[0m\u001b[1;33m,\u001b[0m \u001b[0mmessage\u001b[0m\u001b[1;33m)\u001b[0m\u001b[1;33m\u001b[0m\u001b[0m\n\u001b[0m\u001b[0;32m   1053\u001b[0m \u001b[1;33m\u001b[0m\u001b[0m\n\u001b[0;32m   1054\u001b[0m   \u001b[1;32mdef\u001b[0m \u001b[0m_extend_graph\u001b[0m\u001b[1;33m(\u001b[0m\u001b[0mself\u001b[0m\u001b[1;33m)\u001b[0m\u001b[1;33m:\u001b[0m\u001b[1;33m\u001b[0m\u001b[0m\n",
      "\u001b[1;31mInvalidArgumentError\u001b[0m: No OpKernel was registered to support Op 'AvgPool' with these attrs.  Registered devices: [CPU,GPU], Registered kernels:\n  device='GPU'; T in [DT_FLOAT]\n  device='GPU'; T in [DT_HALF]\n  device='CPU'; T in [DT_HALF]\n  device='CPU'; T in [DT_FLOAT]\n\n\t [[Node: Sentence/AvgPool_1 = AvgPool[T=DT_DOUBLE, data_format=\"NHWC\", ksize=[1, 50, 1, 1], padding=\"VALID\", strides=[1, 1, 1, 1]](Sentence/ExpandDims_1)]]\n\nCaused by op u'Sentence/AvgPool_1', defined at:\n  File \"/usr/lib/python2.7/runpy.py\", line 162, in _run_module_as_main\n    \"__main__\", fname, loader, pkg_name)\n  File \"/usr/lib/python2.7/runpy.py\", line 72, in _run_code\n    exec code in run_globals\n  File \"/usr/local/lib/python2.7/dist-packages/ipykernel/__main__.py\", line 3, in <module>\n    app.launch_new_instance()\n  File \"/usr/local/lib/python2.7/dist-packages/traitlets/config/application.py\", line 589, in launch_instance\n    app.start()\n  File \"/usr/local/lib/python2.7/dist-packages/ipykernel/kernelapp.py\", line 442, in start\n    ioloop.IOLoop.instance().start()\n  File \"/usr/local/lib/python2.7/dist-packages/zmq/eventloop/ioloop.py\", line 162, in start\n    super(ZMQIOLoop, self).start()\n  File \"/usr/local/lib/python2.7/dist-packages/tornado/ioloop.py\", line 883, in start\n    handler_func(fd_obj, events)\n  File \"/usr/local/lib/python2.7/dist-packages/tornado/stack_context.py\", line 275, in null_wrapper\n    return fn(*args, **kwargs)\n  File \"/usr/local/lib/python2.7/dist-packages/zmq/eventloop/zmqstream.py\", line 440, in _handle_events\n    self._handle_recv()\n  File \"/usr/local/lib/python2.7/dist-packages/zmq/eventloop/zmqstream.py\", line 472, in _handle_recv\n    self._run_callback(callback, msg)\n  File \"/usr/local/lib/python2.7/dist-packages/zmq/eventloop/zmqstream.py\", line 414, in _run_callback\n    callback(*args, **kwargs)\n  File \"/usr/local/lib/python2.7/dist-packages/tornado/stack_context.py\", line 275, in null_wrapper\n    return fn(*args, **kwargs)\n  File \"/usr/local/lib/python2.7/dist-packages/ipykernel/kernelbase.py\", line 276, in dispatcher\n    return self.dispatch_shell(stream, msg)\n  File \"/usr/local/lib/python2.7/dist-packages/ipykernel/kernelbase.py\", line 228, in dispatch_shell\n    handler(stream, idents, msg)\n  File \"/usr/local/lib/python2.7/dist-packages/ipykernel/kernelbase.py\", line 391, in execute_request\n    user_expressions, allow_stdin)\n  File \"/usr/local/lib/python2.7/dist-packages/ipykernel/ipkernel.py\", line 199, in do_execute\n    shell.run_cell(code, store_history=store_history, silent=silent)\n  File \"/usr/local/lib/python2.7/dist-packages/IPython/core/interactiveshell.py\", line 2723, in run_cell\n    interactivity=interactivity, compiler=compiler, result=result)\n  File \"/usr/local/lib/python2.7/dist-packages/IPython/core/interactiveshell.py\", line 2825, in run_ast_nodes\n    if self.run_code(code, result):\n  File \"/usr/local/lib/python2.7/dist-packages/IPython/core/interactiveshell.py\", line 2885, in run_code\n    exec(code_obj, self.user_global_ns, self.user_ns)\n  File \"<ipython-input-5-323854c3be4d>\", line 26, in <module>\n    q2Rep = tf.nn.avg_pool(q2Rep,[1,seqLength,1,1],strides=[1,1,1,1],padding='VALID',data_format='NHWC',name='AvgPool')\n  File \"/usr/local/lib/python2.7/dist-packages/tensorflow/python/ops/nn_ops.py\", line 1793, in avg_pool\n    name=name)\n  File \"/usr/local/lib/python2.7/dist-packages/tensorflow/python/ops/gen_nn_ops.py\", line 50, in _avg_pool\n    data_format=data_format, name=name)\n  File \"/usr/local/lib/python2.7/dist-packages/tensorflow/python/framework/op_def_library.py\", line 768, in apply_op\n    op_def=op_def)\n  File \"/usr/local/lib/python2.7/dist-packages/tensorflow/python/framework/ops.py\", line 2336, in create_op\n    original_op=self._default_original_op, op_def=op_def)\n  File \"/usr/local/lib/python2.7/dist-packages/tensorflow/python/framework/ops.py\", line 1228, in __init__\n    self._traceback = _extract_stack()\n\nInvalidArgumentError (see above for traceback): No OpKernel was registered to support Op 'AvgPool' with these attrs.  Registered devices: [CPU,GPU], Registered kernels:\n  device='GPU'; T in [DT_FLOAT]\n  device='GPU'; T in [DT_HALF]\n  device='CPU'; T in [DT_HALF]\n  device='CPU'; T in [DT_FLOAT]\n\n\t [[Node: Sentence/AvgPool_1 = AvgPool[T=DT_DOUBLE, data_format=\"NHWC\", ksize=[1, 50, 1, 1], padding=\"VALID\", strides=[1, 1, 1, 1]](Sentence/ExpandDims_1)]]\n"
     ]
    }
   ],
   "source": [
    "saver = tf.train.Saver(restore_sequentially=True,reshape=False,sharded=False)\n",
    "fetches = {'eval_op':train_op,'accuracy':accuracy}\n",
    "    \n",
    "print(\"Starting...\")\n",
    "session.run(tf.global_variables_initializer())\n",
    "\n",
    "noEpisodes = 10\n",
    "batchSize = 1000\n",
    "noEpochs = len(trainData) / batchSize\n",
    "\n",
    "valLabels = tf.one_hot(valData.is_duplicate.values,on_value=1,\n",
    "                        off_value=0,depth=2,axis=-1,name='one_hot_labels')\n",
    "valLabels = valLabels.eval(session=session)\n",
    "valQ1Indices = np.array(list(valData.Q1Indexed.values),dtype=np.int32)\n",
    "valQ1Len = valData.Q1Length.values.astype(np.int32)\n",
    "valQ2Indices = np.array(list(valData.Q2Indexed.values),dtype=np.int32)\n",
    "valQ2Len = valData.Q2Length.values.astype(np.int32)\n",
    "\n",
    "testLabels = tf.one_hot(testData.is_duplicate.values,on_value=1,\n",
    "                        off_value=0,depth=2,axis=-1,name='one_hot_labels')\n",
    "testLabels = testLabels.eval(session=session)\n",
    "testQ1Indices = np.array(list(testData.Q1Indexed.values),dtype=np.int32)\n",
    "testQ1Len = testData.Q1Length.values.astype(np.int32)\n",
    "testQ2Indices = np.array(list(testData.Q2Indexed.values),dtype=np.int32)\n",
    "testQ2Len = testData.Q2Length.values.astype(np.int32)\n",
    "\n",
    "noTestBatches = 100\n",
    "testSzPerBatch = len(valQ1Indices) / noTestBatches\n",
    "\n",
    "print(\"Episode\\ttrain loss\\tval loss\\tval accuracy\")\n",
    "for episode in range(noEpisodes):\n",
    "    episodeData = trainData.iloc[np.random.permutation(len(trainData))]\n",
    "\n",
    "    startIdx = 0\n",
    "    episodeLoss = 0\n",
    "    for epoch in range(noEpochs):\n",
    "        batch = episodeData.iloc[startIdx:startIdx+batchSize]\n",
    "        startIdx += batchSize\n",
    "\n",
    "        oneHotLabels = tf.one_hot(batch.is_duplicate.values,\n",
    "                          on_value=1,off_value=0,depth=2,axis=-1,name='one_hot_labels')\n",
    "        oneHotLabels = oneHotLabels.eval(session=session)\n",
    "        q1Indices = np.array(list(batch.Q1Indexed.values),dtype=np.int32)\n",
    "        q1Len = batch.Q1Length.values.astype(np.int32)\n",
    "        q2Indices = np.array(list(batch.Q2Indexed.values),dtype=np.int32)\n",
    "        q2Len = batch.Q2Length.values.astype(np.int32)\n",
    "        feed_dict = {q1Input:q1Indices,q1SeqLen:q1Len,q2Input:q2Indices,q2SeqLen:q2Len,labels:oneHotLabels}\n",
    "\n",
    "        trainMetrics = session.run(fetches,feed_dict)\n",
    "\n",
    "        episodeLoss += trainMetrics['eval_op']\n",
    "\n",
    "    episodeLoss /= noEpochs\n",
    "\n",
    "    testLoss = 0\n",
    "    testAccuracy = 0\n",
    "    fetches = {'loss':loss, 'accuracy':accuracy}\n",
    "    for subTest in range(noTestBatches):\n",
    "        startIdx = subTest*testSzPerBatch\n",
    "        endIdx = startIdx + testSzPerBatch\n",
    "        if(subTest == noTestBatches-1):\n",
    "            endIdx = len(testQ1Indices)\n",
    "        testFeed = {q1Input:valQ1Indices[startIdx:endIdx],\n",
    "                    q1SeqLen:valQ1Len[startIdx:endIdx],\n",
    "                    q2Input:valQ2Indices[startIdx:endIdx],\n",
    "                    q2SeqLen:valQ2Len[startIdx:endIdx],\n",
    "                    labels:valLabels[startIdx:endIdx]}\n",
    "        testMetrics = session.run(fetches,testFeed)\n",
    "        testLoss += testMetrics['loss']\n",
    "        testAccuracy += testMetrics['accuracy']\n",
    "\n",
    "    testLoss = testLoss/float(noTestBatches)\n",
    "    testAccuracy = (100.0 / noTestBatches) * testAccuracy\n",
    "    print(\"{}\\t{}\\t{}\\t{}\".format(episode,episodeLoss,testLoss,testAccuracy))\n",
    "    fetches = {'eval_op':train_op,'accuracy':accuracy}"
   ]
  },
  {
   "cell_type": "markdown",
   "metadata": {},
   "source": [
    "Testing restore and predictions"
   ]
  },
  {
   "cell_type": "code",
   "execution_count": null,
   "metadata": {
    "collapsed": false
   },
   "outputs": [],
   "source": [
    "with tf.Session() as sess:\n",
    "    saver = tf.train.import_meta_graph('/home/ubuntu/QuestionPairs/SumModel/-9.meta')\n",
    "    saver.restore(sess, '/home/ubuntu/QuestionPairs/SumModel/-9')\n",
    "    \n",
    "    temp = predictions.eval(session=sess,feed_dict=testFeed1)"
   ]
  },
  {
   "cell_type": "code",
   "execution_count": null,
   "metadata": {
    "collapsed": false,
    "scrolled": false
   },
   "outputs": [],
   "source": [
    "#np.argmax(testLabels[:lTest],axis=1)\n",
    "actual = np.argmax(testLabels[:lTest],axis=1)\n",
    "predicted = temp"
   ]
  },
  {
   "cell_type": "code",
   "execution_count": null,
   "metadata": {
    "collapsed": false
   },
   "outputs": [],
   "source": [
    "y = actual - predicted\n",
    "print \"%age of non duplicates classified as duplicates: \", float(len(y[y==-1])) / float(len(y))\n",
    "print \"%age of duplicates classified as non duplicates: \", float(len(y[y==1])) / float(len(y))"
   ]
  }
 ],
 "metadata": {
  "anaconda-cloud": {},
  "kernelspec": {
   "display_name": "Python 2",
   "language": "python",
   "name": "python2"
  },
  "language_info": {
   "codemirror_mode": {
    "name": "ipython",
    "version": 2
   },
   "file_extension": ".py",
   "mimetype": "text/x-python",
   "name": "python",
   "nbconvert_exporter": "python",
   "pygments_lexer": "ipython2",
   "version": "2.7.6"
  }
 },
 "nbformat": 4,
 "nbformat_minor": 0
}
