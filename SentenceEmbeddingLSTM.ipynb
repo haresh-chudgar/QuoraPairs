{
 "cells": [
  {
   "cell_type": "code",
   "execution_count": null,
   "metadata": {
    "collapsed": false
   },
   "outputs": [],
   "source": [
    "import tensorflow as tf\n",
    "import numpy as np\n",
    "import pandas as pd\n",
    "import spacy"
   ]
  },
  {
   "cell_type": "markdown",
   "metadata": {},
   "source": [
    "### Getting input data ready"
   ]
  },
  {
   "cell_type": "code",
   "execution_count": null,
   "metadata": {
    "collapsed": false
   },
   "outputs": [],
   "source": [
    "filePath = \"data/quora_duplicate_questions.tsv\"\n",
    "df = pd.read_csv(filePath,delimiter=\"\\t\")\n",
    "df.question1 = df.question1.fillna(\"\")\n",
    "df.question1 = df.question1.apply(str.lower)\n",
    "df.question2 = df.question2.fillna(\"\")\n",
    "df.question2 = df.question2.apply(str.lower)"
   ]
  },
  {
   "cell_type": "markdown",
   "metadata": {},
   "source": [
    "Finding unique words in dataset to create vocabulary"
   ]
  },
  {
   "cell_type": "code",
   "execution_count": null,
   "metadata": {
    "collapsed": false
   },
   "outputs": [],
   "source": [
    "def tokenize(s,nlp):\n",
    "    doc = nlp(s)\n",
    "    tokSen = []\n",
    "    for word in doc:\n",
    "        tokSen.append(word.text)\n",
    "    return tokSen\n",
    "\n",
    "nlp = spacy.load('en')\n",
    "uniqueQuestions = df.question1.unique()\n",
    "tokenizedQns = [tokenize(unicode(sentence,'utf8'),nlp) for sentence in uniqueQuestions]\n",
    "words = [word for tokWords in tokenizedQns for word in tokWords]\n",
    "\n",
    "words2 = df.question2.unique()\n",
    "words2 = [tokenize(unicode(sentence,'utf8'),nlp) for sentence in words2]\n",
    "words2 = [word for tokWords in words2 for word in tokWords]\n",
    "words.extend(words2)"
   ]
  },
  {
   "cell_type": "markdown",
   "metadata": {},
   "source": [
    "Adding PAD as filler for normalizing sentence length and UNK for unkown tokens"
   ]
  },
  {
   "cell_type": "code",
   "execution_count": null,
   "metadata": {
    "collapsed": false,
    "scrolled": true
   },
   "outputs": [],
   "source": [
    "words = set(words)\n",
    "vocabulary = dict(zip(words,range(2,len(words)+2)))\n",
    "vocabulary['PAD'] = 0\n",
    "vocabulary['UNK'] = 1\n",
    "print(\"Vocabulary Size including PAD and UNK: \",len(vocabulary))"
   ]
  },
  {
   "cell_type": "markdown",
   "metadata": {},
   "source": [
    "Each question represented as list of index in the vocabulary"
   ]
  },
  {
   "cell_type": "code",
   "execution_count": null,
   "metadata": {
    "collapsed": false
   },
   "outputs": [],
   "source": [
    "def loadWordVectors(filePath,vocab):\n",
    "    txt = open('data/wiki.en.vec')\n",
    "    wordVecs = np.zeros((len(vocab),300),dtype=float)\n",
    "    for line in txt:\n",
    "        splitData = line.split(\" \")\n",
    "        word = splitData[0]\n",
    "        word = unicode(word,'utf8')\n",
    "        if(word not in vocab):\n",
    "            continue\n",
    "        vector = splitData[1:len(splitData)-1]\n",
    "        wordVecs[vocab[word]] = np.array(vector,dtype=float)\n",
    "    return wordVecs\n",
    "wordVecSize = 300\n",
    "wordVecs = loadWordVectors('wiki/wiki.en.vec',vocabulary)"
   ]
  },
  {
   "cell_type": "code",
   "execution_count": null,
   "metadata": {
    "collapsed": false
   },
   "outputs": [],
   "source": [
    "idx = 0 \n",
    "for w in wordVecs:\n",
    "    if(w is None):\n",
    "        count += 1\n",
    "        wordVecs[idx] = 2 * np.random.random_sample(wordVecSize) - 1"
   ]
  },
  {
   "cell_type": "code",
   "execution_count": null,
   "metadata": {
    "collapsed": false
   },
   "outputs": [],
   "source": [
    "def tokenizeAndIndex(sentence):\n",
    "    words = tokenize(unicode(sentence,'utf8'),nlp)\n",
    "    retVal = [vocabulary[word] if word in vocabulary else vocabulary['UNK'] for word in words]\n",
    "    return retVal\n",
    "df['Q1Indexed'] = df.question1.apply(tokenizeAndIndex)\n",
    "df['Q2Indexed'] = df.question2.apply(tokenizeAndIndex)"
   ]
  },
  {
   "cell_type": "markdown",
   "metadata": {},
   "source": [
    "Threshold questions with total words <= 50"
   ]
  },
  {
   "cell_type": "code",
   "execution_count": null,
   "metadata": {
    "collapsed": false
   },
   "outputs": [],
   "source": [
    "seqLength = 50\n",
    "df = df[df.Q1Indexed.apply(len) <= seqLength]\n",
    "df = df[df.Q2Indexed.apply(len) <= seqLength]\n",
    "\n",
    "def normalizeSequenceLength(sequence):\n",
    "    if(len(sequence) < seqLength):\n",
    "        padding = [vocabulary['PAD'] for i in range(seqLength - len(sequence))]\n",
    "        sequence.extend(padding)\n",
    "    return sequence\n",
    "df.Q1Indexed = df.Q1Indexed.apply(normalizeSequenceLength)\n",
    "df.Q2Indexed = df.Q2Indexed.apply(normalizeSequenceLength)"
   ]
  },
  {
   "cell_type": "code",
   "execution_count": null,
   "metadata": {
    "collapsed": false,
    "scrolled": false
   },
   "outputs": [],
   "source": [
    "positiveSamples = df[df.is_duplicate==1]\n",
    "negativeSamples = df[df.is_duplicate==0]\n",
    "\n",
    "#Testing data\n",
    "positiveTest = positiveSamples.sample(frac=0.3)\n",
    "negativeTest = negativeSamples.sample(frac=0.3)\n",
    "testData = positiveTest.append(negativeTest)\n",
    "print(\"Number of test samples: {0}\".format(len(testData)))\n",
    "#Training data\n",
    "trainData = df[df.id.isin(testData.id) == False]\n",
    "print(\"Number of train samples: {0}\".format(len(trainData)))\n",
    "\n",
    "positiveVal = positiveTest.sample(frac=0.5)\n",
    "negativeVal = negativeTest.sample(frac=0.5)\n",
    "valData = positiveVal.append(negativeVal)\n",
    "\n",
    "positiveTest = positiveTest[positiveTest.id.isin(positiveVal.id) == False]\n",
    "negativeTest = negativeTest[negativeTest.id.isin(negativeVal.id) == False]\n",
    "testData = positiveTest.append(negativeTest)\n",
    "\n",
    "totalLen = float(len(df))\n",
    "print(\"Split ratio: {}:{}:{}\".format(len(trainData) / totalLen, len(valData) / totalLen, len(testData) / totalLen))\n",
    "print(\"Total Samples: {}:{}:{}\".format(len(trainData), len(valData), len(testData)))\n",
    "#print(float(len(valData)) / len(df))"
   ]
  },
  {
   "cell_type": "markdown",
   "metadata": {},
   "source": [
    "Saving processed data to file"
   ]
  },
  {
   "cell_type": "code",
   "execution_count": null,
   "metadata": {
    "collapsed": false
   },
   "outputs": [],
   "source": [
    "df.to_pickle('data/ProcessedData.pkl')\n",
    "trainData.to_pickle(\"data/TrainData.pkl\")\n",
    "testData.to_pickle(\"data/TestData.pkl\")\n",
    "valData.to_pickle(\"data/ValData.pkl\")\n",
    "np.save('data/wordVecs.npy',wordVecs)"
   ]
  },
  {
   "cell_type": "markdown",
   "metadata": {},
   "source": [
    "Loading processed data from file"
   ]
  },
  {
   "cell_type": "code",
   "execution_count": null,
   "metadata": {
    "collapsed": false
   },
   "outputs": [],
   "source": [
    "df = pd.read_pickle('data/ProcessedData.pkl')\n",
    "trainData = pd.read_pickle('data/TrainData.pkl')\n",
    "testData = pd.read_pickle('data/TestData.pkl')\n",
    "testData['predicted'] = -1\n",
    "valData = pd.read_pickle('data/ValData.pkl')\n",
    "wordVecs = np.load('data/wordVecs.npy')\n",
    "wordVecSize = 300\n",
    "seqLength = 50"
   ]
  },
  {
   "cell_type": "markdown",
   "metadata": {},
   "source": [
    "### Building the network"
   ]
  },
  {
   "cell_type": "markdown",
   "metadata": {},
   "source": [
    "Creating setence embedding"
   ]
  },
  {
   "cell_type": "code",
   "execution_count": null,
   "metadata": {
    "collapsed": false
   },
   "outputs": [],
   "source": [
    "tf.reset_default_graph()"
   ]
  },
  {
   "cell_type": "code",
   "execution_count": null,
   "metadata": {
    "collapsed": false,
    "scrolled": true
   },
   "outputs": [],
   "source": [
    "wordVecSize = 100\n",
    "vocab_size = len(wordVecs)\n",
    "\n",
    "with tf.variable_scope(\"Words\") as scope:\n",
    "    W = tf.Variable(wordVecs,name=\"W\")\n",
    "    #W = tf.Variable(tf.random_uniform([vocab_size, wordVecSize], -1.0, 1.0),name=\"W\")\n",
    "    \n",
    "    q1Input = tf.placeholder(tf.int32, [None, seqLength], name=\"q1Input\")\n",
    "    q1Embeddings = tf.nn.embedding_lookup(W, q1Input)\n",
    "    q1Embeddings = tf.reshape(q1Embeddings,[-1,300],name='q1Reshape')\n",
    "    q1Embeddings = tf.layers.dense(inputs=q1Embeddings, units=wordVecSize,name='downsample')\n",
    "    q1Embeddings = tf.nn.dropout(x=q1Embeddings,keep_prob=0.9)\n",
    "    q1Embeddings = tf.reshape(q1Embeddings,[-1,seqLength,wordVecSize])\n",
    "    q1Mask = tf.placeholder(tf.float64, [None, seqLength, 1], name=\"q1Mask\")\n",
    "    q1Embeddings = tf.multiply(q1Embeddings, q1Mask, name='q1Masked')\n",
    "    \n",
    "    q1SeqLen = tf.placeholder(tf.int32, [None], name=\"q1SequenceLength\")\n",
    "    scope.reuse_variables()\n",
    "    \n",
    "    q2Input = tf.placeholder(tf.int32, [None, seqLength], name=\"q2Input\")\n",
    "    #q2SeqLen = tf.placeholder(tf.int32, [None], name=\"q2SequenceLength\")\n",
    "    q2Embeddings = tf.nn.embedding_lookup(W, q2Input)\n",
    "    q2Embeddings = tf.reshape(q2Embeddings,[-1,300],name='q2Reshape')\n",
    "    q2Embeddings = tf.layers.dense(inputs=q2Embeddings, units=wordVecSize,name='downsample')\n",
    "    q2Embeddings = tf.nn.dropout(x=q2Embeddings,keep_prob=0.9)\n",
    "    q2Embeddings = tf.reshape(q2Embeddings,[-1,seqLength,wordVecSize])\n",
    "    q2Mask = tf.placeholder(tf.float64, [None, seqLength, 1], name=\"q2Mask\")\n",
    "    q2Embeddings = tf.multiply(q2Embeddings, q2Mask, name='q1Masked')\n",
    "    \n",
    "with tf.variable_scope(\"Sentence\") as scope:\n",
    "#    initializer = tf.contrib.layers.xavier_initializer()\n",
    "    cell = tf.contrib.rnn.GRUCell(wordVecSize)\n",
    "    q1Rep,_ = tf.nn.dynamic_rnn(cell,q1Embeddings,dtype=tf.float64,swap_memory=True)\n",
    "    q1Rep = tf.reduce_mean(q1Rep,axis=1)\n",
    "    #idx = tf.argmax(q1Rep,axis=1)\n",
    "    #q1Rep = q1Rep[:,idx,:]\n",
    "    #q1Rep = q1Rep[:,-1,:]\n",
    "    scope.reuse_variables()\n",
    "    q2Rep,_ = tf.nn.dynamic_rnn(cell,q2Embeddings,dtype=tf.float64,swap_memory=True)\n",
    "    q2Rep = tf.reduce_mean(q2Rep,axis=1)\n",
    "    #idx = tf.argmax(q2Rep,axis=1)\n",
    "    #q2Rep = q2Rep[:,idx,:]\n",
    "    #q2Rep = q2Rep[:,-1,:]\n",
    "\n",
    "    sentenceEmbedding = tf.concat([q1Rep,q2Rep],axis=1,name='sentenceEmbedding')"
   ]
  },
  {
   "cell_type": "markdown",
   "metadata": {},
   "source": [
    "Dense layers and output"
   ]
  },
  {
   "cell_type": "code",
   "execution_count": null,
   "metadata": {
    "collapsed": false
   },
   "outputs": [],
   "source": [
    "with tf.variable_scope(\"DenseLayers\") as scope:\n",
    "    dense1 = tf.layers.dense(inputs=sentenceEmbedding, units=wordVecSize*2, activation=tf.nn.tanh,name='dense1')\n",
    "    #dropoutD1 = tf.nn.dropout(x=dense1,keep_prob=0.9)\n",
    "    dense2 = tf.layers.dense(inputs=dense1, units=wordVecSize*2, activation=tf.nn.tanh,name='dense2')\n",
    "    #dropoutD2 = tf.nn.dropout(x=dense2,keep_prob=0.9)\n",
    "    #dense3 = tf.layers.dense(inputs=dropoutD2, units=wordVecSize*2, activation=tf.nn.tanh,name='dense3')\n",
    "    #dropoutD3 = tf.nn.dropout(x=dense3,keep_prob=0.7)\n",
    "    logits = tf.layers.dense(inputs=dense2, units=2,name='logits')\n",
    "\n",
    "with tf.variable_scope(\"Prediction\") as scope:\n",
    "    predictions = tf.argmax(input=tf.nn.softmax(logits=logits,dim=-1,name='softmax'),axis=1,name='output')"
   ]
  },
  {
   "cell_type": "markdown",
   "metadata": {},
   "source": [
    "Loss and gradient updates"
   ]
  },
  {
   "cell_type": "code",
   "execution_count": null,
   "metadata": {
    "collapsed": false
   },
   "outputs": [],
   "source": [
    "num_classes = 2\n",
    "labels = tf.placeholder(tf.int32,[None,num_classes],name='labels')\n",
    "\n",
    "loss = None\n",
    "train_op = None\n",
    "\n",
    "# Calculate loss for both TRAIN and EVAL modes\n",
    "loss = tf.losses.softmax_cross_entropy(onehot_labels=labels, logits=logits)\n",
    "train_op = tf.contrib.layers.optimize_loss(loss=loss,\n",
    "                                           global_step=tf.contrib.framework.get_global_step(),\n",
    "                                           learning_rate=0.01,\n",
    "                                           optimizer=\"Adam\")\n",
    "correct_prediction = tf.equal(predictions, tf.argmax(labels,1))\n",
    "accuracy = tf.reduce_mean(tf.cast(correct_prediction, \"float\"))"
   ]
  },
  {
   "cell_type": "markdown",
   "metadata": {},
   "source": [
    "Prepare variables for training epoch"
   ]
  },
  {
   "cell_type": "code",
   "execution_count": null,
   "metadata": {
    "collapsed": true
   },
   "outputs": [],
   "source": [
    "session = tf.InteractiveSession()"
   ]
  },
  {
   "cell_type": "code",
   "execution_count": null,
   "metadata": {
    "collapsed": false,
    "scrolled": true
   },
   "outputs": [],
   "source": [
    "fetches = {'eval_op':train_op,'accuracy':accuracy}\n",
    "    \n",
    "print(\"Starting...\")\n",
    "session.run(tf.global_variables_initializer())\n",
    "\n",
    "noEpisodes = 10\n",
    "batchSize = 1000\n",
    "noEpochs = len(trainData) / batchSize\n",
    "\n",
    "valLabels = tf.one_hot(valData.is_duplicate.values,on_value=1,\n",
    "                        off_value=0,depth=2,axis=-1,name='one_hot_labels')\n",
    "valLabels = valLabels.eval(session=session)\n",
    "valQ1Indices = np.array(list(valData.Q1Indexed.values),dtype=np.int32)\n",
    "valQ1Len = valData.Q1Length.values.astype(np.int32)\n",
    "valQ1Mask = [np.append(np.ones((revLen,1)),np.zeros((seqLength-revLen,1)),axis=0) \n",
    "                        for revLen in valData.Q1Length]\n",
    "valQ2Indices = np.array(list(valData.Q2Indexed.values),dtype=np.int32)\n",
    "valQ2Len = valData.Q2Length.values.astype(np.int32)\n",
    "valQ2Mask = [np.append(np.ones((revLen,1)),np.zeros((seqLength-revLen,1)),axis=0) \n",
    "                        for revLen in valData.Q2Length]\n",
    "\n",
    "testLabels = tf.one_hot(testData.is_duplicate.values,on_value=1,\n",
    "                        off_value=0,depth=2,axis=-1,name='one_hot_labels')\n",
    "testLabels = testLabels.eval(session=session)\n",
    "testQ1Indices = np.array(list(testData.Q1Indexed.values),dtype=np.int32)\n",
    "testQ1Len = testData.Q1Length.values.astype(np.int32)\n",
    "testQ1Mask = [np.append(np.ones((revLen,1)),np.zeros((seqLength-revLen,1)),axis=0) \n",
    "                        for revLen in testData.Q1Length]\n",
    "testQ2Indices = np.array(list(testData.Q2Indexed.values),dtype=np.int32)\n",
    "testQ2Len = testData.Q2Length.values.astype(np.int32)\n",
    "testQ2Mask = [np.append(np.ones((revLen,1)),np.zeros((seqLength-revLen,1)),axis=0) \n",
    "                        for revLen in testData.Q2Length]\n",
    "\n",
    "noTestBatches = 100\n",
    "testSzPerBatch = len(valQ1Indices) / noTestBatches\n",
    "\n",
    "print(\"Episode\\ttrain loss\\tval loss\\ttest loss\\tval accuracy\\ttest accuracy\")\n",
    "for episode in range(noEpisodes):\n",
    "    episodeData = trainData.iloc[np.random.permutation(len(trainData))]\n",
    "\n",
    "    startIdx = 0\n",
    "    episodeLoss = 0\n",
    "    for epoch in range(noEpochs):\n",
    "        batch = episodeData.iloc[startIdx:startIdx+batchSize]\n",
    "        startIdx += batchSize\n",
    "\n",
    "        oneHotLabels = tf.one_hot(batch.is_duplicate.values,\n",
    "                          on_value=1,off_value=0,depth=2,axis=-1,name='one_hot_labels')\n",
    "        oneHotLabels = oneHotLabels.eval(session=session)\n",
    "        q1Indices = np.array(list(batch.Q1Indexed.values),dtype=np.int32)\n",
    "        q1Len = batch.Q1Length.values.astype(np.int32)\n",
    "        q1MaskInp = [np.append(np.ones((revLen,1)),np.zeros((seqLength-revLen,1)),axis=0) \n",
    "                        for revLen in batch.Q1Length]\n",
    "        q2Indices = np.array(list(batch.Q2Indexed.values),dtype=np.int32)\n",
    "        q2Len = batch.Q2Length.values.astype(np.int32)\n",
    "        q2MaskInp = [np.append(np.ones((revLen,1)),np.zeros((seqLength-revLen,1)),axis=0) \n",
    "                        for revLen in batch.Q2Length]\n",
    "        feed_dict = {q1Input:q1Indices,q2Input:q2Indices,labels:oneHotLabels,\n",
    "                     q1Mask:q1MaskInp,q2Mask:q2MaskInp}\n",
    "\n",
    "        trainMetrics = session.run(fetches,feed_dict)\n",
    "\n",
    "        episodeLoss += trainMetrics['eval_op']\n",
    "\n",
    "    episodeLoss /= noEpochs\n",
    "\n",
    "    valLoss = 0\n",
    "    valAccuracy = 0\n",
    "    fetches = {'loss':loss, 'accuracy':accuracy}\n",
    "    for subTest in range(noTestBatches):\n",
    "        startIdx = subTest*testSzPerBatch\n",
    "        endIdx = startIdx + testSzPerBatch\n",
    "        if(subTest == noTestBatches-1):\n",
    "            endIdx = len(testQ1Indices)\n",
    "        valFeed = {q1Input:valQ1Indices[startIdx:endIdx],\n",
    "                    q2Input:valQ2Indices[startIdx:endIdx],\n",
    "                    labels:valLabels[startIdx:endIdx],\n",
    "                    q1Mask:valQ1Mask[startIdx:endIdx],\n",
    "                    q2Mask:valQ2Mask[startIdx:endIdx]}\n",
    "        \n",
    "        valMetrics = session.run(fetches,valFeed)\n",
    "        valLoss += valMetrics['loss']\n",
    "        valAccuracy += valMetrics['accuracy']\n",
    "\n",
    "    testLoss = 0\n",
    "    testAccuracy = 0\n",
    "    fetches = {'loss':loss, 'accuracy':accuracy, 'predictions':predictions}\n",
    "    for subTest in range(noTestBatches):\n",
    "        startIdx = subTest*testSzPerBatch\n",
    "        endIdx = startIdx + testSzPerBatch\n",
    "        if(subTest == noTestBatches-1):\n",
    "            endIdx = len(testQ1Indices)\n",
    "        testFeed = {q1Input:testQ1Indices[startIdx:endIdx],\n",
    "                    q2Input:testQ2Indices[startIdx:endIdx],\n",
    "                    labels:testLabels[startIdx:endIdx],\n",
    "                    q1Mask:testQ1Mask[startIdx:endIdx],\n",
    "                    q2Mask:testQ2Mask[startIdx:endIdx]}\n",
    "        \n",
    "        testMetrics = session.run(fetches,testFeed)\n",
    "        testLoss += testMetrics['loss']\n",
    "        testAccuracy += testMetrics['accuracy']\n",
    "        testData.loc[testData.id[startIdx:endIdx] ,'predicted'] = testMetrics['predictions']\n",
    "        \n",
    "    valLoss = valLoss/float(noTestBatches)\n",
    "    valAccuracy = (100.0 / noTestBatches) * valAccuracy\n",
    "    \n",
    "    testLoss = testLoss/float(noTestBatches)\n",
    "    testAccuracy = (100.0 / noTestBatches) * testAccuracy\n",
    "    \n",
    "    print(\"{}\\t{}\\t{}\\t{}\\t{}\\t{}\".format(episode,episodeLoss,valLoss,testLoss,valAccuracy,testAccuracy))\n",
    "    fetches = {'eval_op':train_op,'accuracy':accuracy}"
   ]
  },
  {
   "cell_type": "code",
   "execution_count": null,
   "metadata": {
    "collapsed": true
   },
   "outputs": [],
   "source": [
    "testData.to_csv('testPredictions_lstm.csv')"
   ]
  },
  {
   "cell_type": "code",
   "execution_count": null,
   "metadata": {
    "collapsed": false
   },
   "outputs": [],
   "source": [
    "fetches = {'eval_op':train_op,'accuracy':accuracy}\n",
    "print(\"Episode\\ttrain loss\\tval loss\\tval accuracy\")\n",
    "for episode in range(noEpisodes):\n",
    "    episodeData = trainData.iloc[np.random.permutation(len(trainData))]\n",
    "\n",
    "    startIdx = 0\n",
    "    episodeLoss = 0\n",
    "    for epoch in range(noEpochs):\n",
    "        batch = episodeData.iloc[startIdx:startIdx+batchSize]\n",
    "        startIdx += batchSize\n",
    "\n",
    "        oneHotLabels = tf.one_hot(batch.is_duplicate.values,\n",
    "                          on_value=1,off_value=0,depth=2,axis=-1,name='one_hot_labels')\n",
    "        oneHotLabels = oneHotLabels.eval(session=session)\n",
    "        q1Indices = np.array(list(batch.Q1Indexed.values),dtype=np.int32)\n",
    "        q1Len = batch.Q1Length.values.astype(np.int32)\n",
    "        q2Indices = np.array(list(batch.Q2Indexed.values),dtype=np.int32)\n",
    "        q2Len = batch.Q2Length.values.astype(np.int32)\n",
    "        feed_dict = {q1Input:q1Indices,q1SeqLen:q1Len,q2Input:q2Indices,q2SeqLen:q2Len,labels:oneHotLabels}\n",
    "\n",
    "        trainMetrics = session.run(fetches,feed_dict)\n",
    "\n",
    "        episodeLoss += trainMetrics['eval_op']\n",
    "\n",
    "    episodeLoss /= noEpochs\n",
    "\n",
    "    testLoss = 0\n",
    "    testAccuracy = 0\n",
    "    fetches = {'loss':loss, 'accuracy':accuracy}\n",
    "    for subTest in range(noTestBatches):\n",
    "        startIdx = subTest*testSzPerBatch\n",
    "        endIdx = startIdx + testSzPerBatch\n",
    "        if(subTest == noTestBatches-1):\n",
    "            endIdx = len(testQ1Indices)\n",
    "        testFeed = {q1Input:valQ1Indices[startIdx:endIdx],\n",
    "                    q1SeqLen:valQ1Len[startIdx:endIdx],\n",
    "                    q2Input:valQ2Indices[startIdx:endIdx],\n",
    "                    q2SeqLen:valQ2Len[startIdx:endIdx],\n",
    "                    labels:valLabels[startIdx:endIdx]}\n",
    "        testMetrics = session.run(fetches,testFeed)\n",
    "        testLoss += testMetrics['loss']\n",
    "        testAccuracy += testMetrics['accuracy']\n",
    "\n",
    "    testLoss = testLoss/float(noTestBatches)\n",
    "    testAccuracy = (100.0 / noTestBatches) * testAccuracy\n",
    "    print(\"{}\\t{}\\t{}\\t{}\".format(episode+10,episodeLoss,testLoss,testAccuracy))\n",
    "    fetches = {'eval_op':train_op,'accuracy':accuracy}"
   ]
  },
  {
   "cell_type": "code",
   "execution_count": null,
   "metadata": {
    "collapsed": true
   },
   "outputs": [],
   "source": []
  },
  {
   "cell_type": "markdown",
   "metadata": {},
   "source": [
    "Testing restore and predictions"
   ]
  },
  {
   "cell_type": "code",
   "execution_count": null,
   "metadata": {
    "collapsed": false
   },
   "outputs": [],
   "source": [
    "testLoss = 0\n",
    "testAccuracy = 0\n",
    "\n",
    "falsePositives = 0\n",
    "falseNegatives = 0\n",
    "truePositives = 0\n",
    "trueNegatives = 0\n",
    "\n",
    "fetches = {'loss':loss, 'accuracy':accuracy, 'predictions':correct_prediction}\n",
    "for subTest in range(noTestBatches):\n",
    "    startIdx = subTest*testSzPerBatch\n",
    "    endIdx = startIdx + testSzPerBatch\n",
    "    if(subTest == noTestBatches-1):\n",
    "        endIdx = len(testQ1Indices)\n",
    "    testFeed = {q1Input:testQ1Indices[startIdx:endIdx],\n",
    "                q1SeqLen:testQ1Len[startIdx:endIdx],\n",
    "                q2Input:testQ2Indices[startIdx:endIdx],\n",
    "                q2SeqLen:testQ2Len[startIdx:endIdx],\n",
    "                labels:testLabels[startIdx:endIdx]}\n",
    "    testMetrics = session.run(fetches,testFeed)\n",
    "    testLoss += testMetrics['loss']\n",
    "    testAccuracy += testMetrics['accuracy']\n",
    "    preds = testMetrics['predictions']\n",
    "    \n",
    "    tl = testLabels[startIdx:endIdx]\n",
    "    falsePositives += np.sum(preds[tl[:,0] == 1] == True)\n",
    "    falseNegatives += np.sum(preds[tl[:,1] == 1] == False)\n",
    "    truePositives += np.sum(preds[tl[:,1] == 1] == True)\n",
    "    trueNegatives += np.sum(preds[tl[:,0] == 1] == False)\n",
    "    \n",
    "testLoss = testLoss/float(noTestBatches)\n",
    "testAccuracy = (100.0 / noTestBatches) * testAccuracy\n",
    "print(\"{}\\t{}\".format(testLoss,testAccuracy))"
   ]
  },
  {
   "cell_type": "code",
   "execution_count": null,
   "metadata": {
    "collapsed": false,
    "scrolled": true
   },
   "outputs": [],
   "source": [
    "testLoss = 0\n",
    "testAccuracy = 0\n",
    "\n",
    "falsePositives = 0\n",
    "falseNegatives = 0\n",
    "truePositives = 0\n",
    "trueNegatives = 0\n",
    "\n",
    "startIdx = 0\n",
    "endIdx = 30193\n",
    "fetches = {'loss':loss, 'accuracy':accuracy, 'predictions':predictions}\n",
    "testFeed = {q1Input:testQ1Indices[startIdx:endIdx],\n",
    "            q1Mask:testQ1Mask[startIdx:endIdx],\n",
    "            q2Input:testQ2Indices[startIdx:endIdx],\n",
    "            q2Mask:testQ2Mask[startIdx:endIdx],\n",
    "            labels:testLabels[startIdx:endIdx]}\n",
    "testMetrics = session.run(fetches,testFeed)\n",
    "testLoss = testMetrics['loss']\n",
    "testAccuracy = testMetrics['accuracy']\n",
    "preds = testMetrics['predictions']\n",
    "\n",
    "tl = testLabels[startIdx:endIdx]\n",
    "falsePositives = np.sum(preds[tl[:,0] == 1] == True)\n",
    "falseNegatives = np.sum(preds[tl[:,1] == 1] == False)\n",
    "truePositives = np.sum(preds[tl[:,1] == 1] == True)\n",
    "trueNegatives = np.sum(preds[tl[:,0] == 1] == False)\n",
    "    \n",
    "testAccuracy = 100.0 * testAccuracy\n",
    "print(\"{}\\t{}\".format(testLoss,testAccuracy))"
   ]
  },
  {
   "cell_type": "code",
   "execution_count": null,
   "metadata": {
    "collapsed": false,
    "scrolled": true
   },
   "outputs": [],
   "source": [
    "precision = 100*float(truePositives) / (truePositives + falsePositives)\n",
    "recall = 100*float(truePositives) / (truePositives + falseNegatives)\n",
    "print precision,recall"
   ]
  },
  {
   "cell_type": "code",
   "execution_count": null,
   "metadata": {
    "collapsed": false
   },
   "outputs": [],
   "source": [
    "print truePositives,trueNegatives,falsePositives,falseNegatives"
   ]
  },
  {
   "cell_type": "code",
   "execution_count": null,
   "metadata": {
    "collapsed": false
   },
   "outputs": [],
   "source": [
    "print len(testLabels[0:1000] == [1,0])\n",
    "print len(testLabels[0:1000] != [1,0])\n",
    "print len(testLabels[0:1000])\n",
    "#S1: sum of testLabels[:,0] will give number of actual non duplicates\n",
    "#S2: sum of corrPred[:,0] will give number of predicted non duplicates\n",
    "#S2 - S1\n",
    "\n",
    "temp = testLabels[startIdx:endIdx]\n",
    "temp[temp[:,0] == 1] - "
   ]
  },
  {
   "cell_type": "code",
   "execution_count": null,
   "metadata": {
    "collapsed": false
   },
   "outputs": [],
   "source": [
    "with tf.Session() as sess:\n",
    "    saver = tf.train.import_meta_graph('/home/ubuntu/QuestionPairs/SumModel/-9.meta')\n",
    "    saver.restore(sess, '/home/ubuntu/QuestionPairs/SumModel/-9')\n",
    "    \n",
    "    temp = predictions.eval(session=sess,feed_dict=testFeed1)"
   ]
  },
  {
   "cell_type": "code",
   "execution_count": null,
   "metadata": {
    "collapsed": false,
    "scrolled": false
   },
   "outputs": [],
   "source": [
    "#np.argmax(testLabels[:lTest],axis=1)\n",
    "actual = np.argmax(testLabels[:lTest],axis=1)\n",
    "predicted = temp"
   ]
  },
  {
   "cell_type": "code",
   "execution_count": null,
   "metadata": {
    "collapsed": false
   },
   "outputs": [],
   "source": [
    "y = actual - predicted\n",
    "print \"%age of non duplicates classified as duplicates: \", float(len(y[y==-1])) / float(len(y))\n",
    "print \"%age of duplicates classified as non duplicates: \", float(len(y[y==1])) / float(len(y))"
   ]
  }
 ],
 "metadata": {
  "anaconda-cloud": {},
  "kernelspec": {
   "display_name": "Python 2",
   "language": "python",
   "name": "python2"
  },
  "language_info": {
   "codemirror_mode": {
    "name": "ipython",
    "version": 2
   },
   "file_extension": ".py",
   "mimetype": "text/x-python",
   "name": "python",
   "nbconvert_exporter": "python",
   "pygments_lexer": "ipython2",
   "version": "2.7.6"
  }
 },
 "nbformat": 4,
 "nbformat_minor": 0
}
